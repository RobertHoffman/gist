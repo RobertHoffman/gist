{
 "cells": [
  {
   "cell_type": "code",
   "execution_count": 10,
   "metadata": {
    "pycharm": {
     "name": "#%%\n"
    }
   },
   "outputs": [],
   "source": [
    "\"\"\"pdfplumber支持提取PDF文件中的表格数据\n",
    "1、它是一个纯python第三方库，适合python 3.x版本\n",
    "2、它用来查看pdf各类信息，能有效提取文本、表格\n",
    "3、它不支持修改或生成pdf，也不支持对pdf扫描件的处理\n",
    "\"\"\"\n",
    "\n",
    "import pdfplumber\n",
    "import pandas as pd"
   ]
  },
  {
   "cell_type": "code",
   "execution_count": 11,
   "metadata": {
    "pycharm": {
     "name": "#%%\n"
    }
   },
   "outputs": [],
   "source": [
    "pdf = pdfplumber.open(r\"E:\\新建文件夹\\2022-02-11-102280277.IB-绍兴市金融控股有限公司2019年度经审计的合并及母公司财务报告.pdf\")\n",
    "\n",
    "# 访问第二页\n",
    "page1 = pdf.pages[7]"
   ]
  },
  {
   "cell_type": "code",
   "execution_count": 15,
   "metadata": {},
   "outputs": [
    {
     "data": {
      "text/plain": [
       "['__class__',\n",
       " '__delattr__',\n",
       " '__dict__',\n",
       " '__dir__',\n",
       " '__doc__',\n",
       " '__enter__',\n",
       " '__eq__',\n",
       " '__exit__',\n",
       " '__format__',\n",
       " '__ge__',\n",
       " '__getattribute__',\n",
       " '__gt__',\n",
       " '__hash__',\n",
       " '__init__',\n",
       " '__init_subclass__',\n",
       " '__le__',\n",
       " '__lt__',\n",
       " '__module__',\n",
       " '__ne__',\n",
       " '__new__',\n",
       " '__reduce__',\n",
       " '__reduce_ex__',\n",
       " '__repr__',\n",
       " '__setattr__',\n",
       " '__sizeof__',\n",
       " '__str__',\n",
       " '__subclasshook__',\n",
       " '__weakref__',\n",
       " '_edges',\n",
       " '_layout',\n",
       " '_objects',\n",
       " '_rect_edges',\n",
       " 'annots',\n",
       " 'bbox',\n",
       " 'cached_properties',\n",
       " 'chars',\n",
       " 'close',\n",
       " 'close_file',\n",
       " 'crop',\n",
       " 'cropbox',\n",
       " 'curves',\n",
       " 'debug_tablefinder',\n",
       " 'dedupe_chars',\n",
       " 'edges',\n",
       " 'extract_table',\n",
       " 'extract_tables',\n",
       " 'extract_text',\n",
       " 'extract_words',\n",
       " 'filter',\n",
       " 'find_tables',\n",
       " 'flush_cache',\n",
       " 'height',\n",
       " 'horizontal_edges',\n",
       " 'hyperlinks',\n",
       " 'images',\n",
       " 'initial_doctop',\n",
       " 'is_original',\n",
       " 'iter_layout_objects',\n",
       " 'layout',\n",
       " 'lines',\n",
       " 'mediabox',\n",
       " 'objects',\n",
       " 'page_number',\n",
       " 'page_obj',\n",
       " 'parse_objects',\n",
       " 'pdf',\n",
       " 'process_object',\n",
       " 'rect_edges',\n",
       " 'rects',\n",
       " 'rotation',\n",
       " 'textboxhorizontals',\n",
       " 'textboxverticals',\n",
       " 'textlinehorizontals',\n",
       " 'textlineverticals',\n",
       " 'to_csv',\n",
       " 'to_image',\n",
       " 'to_json',\n",
       " 'vertical_edges',\n",
       " 'width',\n",
       " 'within_bbox']"
      ]
     },
     "execution_count": 15,
     "metadata": {},
     "output_type": "execute_result"
    }
   ],
   "source": [
    "page"
   ]
  },
  {
   "cell_type": "code",
   "execution_count": 14,
   "metadata": {},
   "outputs": [
    {
     "ename": "AttributeError",
     "evalue": "'Page' object has no attribute 'extract_tables0'",
     "output_type": "error",
     "traceback": [
      "\u001B[1;31m---------------------------------------------------------------------------\u001B[0m",
      "\u001B[1;31mAttributeError\u001B[0m                            Traceback (most recent call last)",
      "\u001B[1;32mF:\\Temp/ipykernel_13476/4040599030.py\u001B[0m in \u001B[0;36m<module>\u001B[1;34m\u001B[0m\n\u001B[1;32m----> 1\u001B[1;33m \u001B[0mtable1\u001B[0m \u001B[1;33m=\u001B[0m \u001B[0mpage1\u001B[0m\u001B[1;33m.\u001B[0m\u001B[0mextract_tables0\u001B[0m\u001B[1;33m(\u001B[0m\u001B[1;33m)\u001B[0m\u001B[1;33m\u001B[0m\u001B[1;33m\u001B[0m\u001B[0m\n\u001B[0m\u001B[0;32m      2\u001B[0m \u001B[0mtable_df\u001B[0m \u001B[1;33m=\u001B[0m \u001B[0mpd\u001B[0m\u001B[1;33m.\u001B[0m\u001B[0mDataFrame\u001B[0m\u001B[1;33m(\u001B[0m\u001B[0mtable1\u001B[0m\u001B[1;33m)\u001B[0m\u001B[1;33m\u001B[0m\u001B[1;33m\u001B[0m\u001B[0m\n\u001B[0;32m      3\u001B[0m \u001B[0mtable_df\u001B[0m\u001B[1;33m\u001B[0m\u001B[1;33m\u001B[0m\u001B[0m\n",
      "\u001B[1;31mAttributeError\u001B[0m: 'Page' object has no attribute 'extract_tables0'"
     ]
    }
   ],
   "source": [
    "table1 = page1.extract_tables0()\n",
    "table_df = pd.DataFrame(table1)\n",
    "table_df"
   ]
  },
  {
   "cell_type": "code",
   "execution_count": null,
   "metadata": {
    "pycharm": {
     "name": "#%%\n"
    }
   },
   "outputs": [],
   "source": [
    "# 自动读取表格信息，返回列表\n",
    "table1 = page1.extract_table()\n",
    "\n",
    "# 将列表转为df\n",
    "table_df = pd.DataFrame(table1)"
   ]
  },
  {
   "cell_type": "code",
   "execution_count": 7,
   "metadata": {
    "pycharm": {
     "name": "#%%\n"
    }
   },
   "outputs": [],
   "source": [
    "# 保存excel\n",
    "table_df.to_excel(r'E:\\新建文件夹\\test.xlsx')\n"
   ]
  },
  {
   "cell_type": "code",
   "execution_count": null,
   "metadata": {},
   "outputs": [],
   "source": []
  }
 ],
 "metadata": {
  "kernelspec": {
   "display_name": "Python 3 (ipykernel)",
   "language": "python",
   "name": "python3"
  },
  "language_info": {
   "codemirror_mode": {
    "name": "ipython",
    "version": 3
   },
   "file_extension": ".py",
   "mimetype": "text/x-python",
   "name": "python",
   "nbconvert_exporter": "python",
   "pygments_lexer": "ipython3",
   "version": "3.7.9"
  }
 },
 "nbformat": 4,
 "nbformat_minor": 1
}